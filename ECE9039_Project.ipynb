{
 "cells": [
  {
   "cell_type": "code",
   "execution_count": 1,
   "metadata": {},
   "outputs": [],
   "source": [
    "import pandas as pd"
   ]
  },
  {
   "cell_type": "markdown",
   "metadata": {},
   "source": [
    "Feature generatiion"
   ]
  },
  {
   "cell_type": "code",
   "execution_count": 15,
   "metadata": {},
   "outputs": [
    {
     "name": "stdout",
     "output_type": "stream",
     "text": [
      "   Gender  Has a car  Has a property  Children count  Income    Age  \\\n",
      "0       0          0               1               0  202500  16834   \n",
      "1       1          1               0               0  675000  18126   \n",
      "2       0          0               0               0  234000  21967   \n",
      "3       0          1               1               0  445500  12477   \n",
      "4       0          1               0               0  225000  12155   \n",
      "\n",
      "   Employment length  Has a mobile phone  Has a work phone  Has a phone  ...  \\\n",
      "0               1692                   1                 0            0  ...   \n",
      "1                948                   1                 0            1  ...   \n",
      "2               5215                   1                 0            0  ...   \n",
      "3                456                   1                 0            0  ...   \n",
      "4                667                   1                 0            0  ...   \n",
      "\n",
      "   Job title_Laborers  Job title_Low-skill Laborers  Job title_Managers  \\\n",
      "0               False                         False               False   \n",
      "1               False                         False                True   \n",
      "2               False                         False               False   \n",
      "3               False                         False                True   \n",
      "4                True                         False               False   \n",
      "\n",
      "   Job title_Medicine staff  Job title_Private service staff  \\\n",
      "0                      True                            False   \n",
      "1                     False                            False   \n",
      "2                     False                            False   \n",
      "3                     False                            False   \n",
      "4                     False                            False   \n",
      "\n",
      "   Job title_Realty agents  Job title_Sales staff  Job title_Secretaries  \\\n",
      "0                    False                  False                  False   \n",
      "1                    False                  False                  False   \n",
      "2                    False                  False                  False   \n",
      "3                    False                  False                  False   \n",
      "4                    False                  False                  False   \n",
      "\n",
      "   Job title_Security staff  Job title_Waiters/barmen staff  \n",
      "0                     False                           False  \n",
      "1                     False                           False  \n",
      "2                     False                           False  \n",
      "3                     False                           False  \n",
      "4                     False                           False  \n",
      "\n",
      "[5 rows x 48 columns]\n"
     ]
    }
   ],
   "source": [
    "# Import the data set\n",
    "data = pd.read_csv('credit_card_approval.csv')\n",
    "\n",
    "# Drop the missing values and ID\n",
    "data = data.dropna()\n",
    "data = data.drop(columns=['ID'])\n",
    "\n",
    "# print(data.head())\n",
    "\n",
    "# Absolute the negative values\n",
    "data['Age'] = abs(data['Age'])\n",
    "data['Employment length'] = abs(data['Employment length'])\n",
    "data['Account age'] = abs(data['Account age'])\n",
    "\n",
    "# Convert float to int\n",
    "data['Income'] = data['Income'].round().astype(int)\n",
    "\n",
    "# Convert the categorical data to numerical data for Has a car and Has a property\n",
    "data['Has a car'] = data['Has a car'].map({'Y': 1, 'N': 0})\n",
    "data['Has a property'] = data['Has a property'].map({'Y': 1, 'N': 0})\n",
    "\n",
    "# Convert the categorical data to numerical data for Gender\n",
    "data['Gender'] = data['Gender'].map({'M': 1, 'F': 0})\n",
    "\n",
    "\n",
    "# Create a new feature which is the people who has both car and property\n",
    "\n",
    "\n",
    "# One-hot Encoding \n",
    "data = pd.get_dummies(data, columns=['Education level', 'Employment status', 'Dwelling', 'Marital status','Job title'], drop_first=True)\n",
    "\n",
    "print(data.head())"
   ]
  }
 ],
 "metadata": {
  "kernelspec": {
   "display_name": "Python 3",
   "language": "python",
   "name": "python3"
  },
  "language_info": {
   "codemirror_mode": {
    "name": "ipython",
    "version": 3
   },
   "file_extension": ".py",
   "mimetype": "text/x-python",
   "name": "python",
   "nbconvert_exporter": "python",
   "pygments_lexer": "ipython3",
   "version": "3.11.8"
  }
 },
 "nbformat": 4,
 "nbformat_minor": 2
}
